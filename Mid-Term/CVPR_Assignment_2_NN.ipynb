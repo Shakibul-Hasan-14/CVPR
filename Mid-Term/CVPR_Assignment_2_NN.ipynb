{
 "cells": [
  {
   "cell_type": "code",
   "execution_count": 1,
   "id": "c0f1fc6e",
   "metadata": {},
   "outputs": [],
   "source": [
    "import numpy as np\n",
    "import matplotlib.pyplot as plt\n",
    "from sklearn.datasets import make_classification\n",
    "from sklearn.model_selection import train_test_split\n",
    "from sklearn.preprocessing import OneHotEncoder\n",
    "from sklearn.metrics import precision_score, recall_score, f1_score, accuracy_score, confusion_matrix\n",
    "import seaborn as sns"
   ]
  },
  {
   "cell_type": "code",
   "execution_count": 2,
   "id": "df1ebf29",
   "metadata": {},
   "outputs": [],
   "source": [
    "# Generating synthetic dataset with 5 classes\n",
    "X, Y = make_classification(n_samples=1000, n_features=3, n_informative=3, n_redundant=0, n_repeated=0, \n",
    "                           n_classes=5, n_clusters_per_class=1)\n",
    "\n",
    "# One-hot encode the target labels\n",
    "encoder = OneHotEncoder(sparse_output=False)\n",
    "Y = encoder.fit_transform(Y.reshape(-1, 1))"
   ]
  },
  {
   "cell_type": "code",
   "execution_count": 3,
   "id": "38144335",
   "metadata": {},
   "outputs": [],
   "source": [
    "# Splitting into training and testing sets\n",
    "X_train, X_test, Y_train, Y_test = train_test_split(X, Y, test_size=0.2, random_state=0)"
   ]
  },
  {
   "cell_type": "code",
   "execution_count": 4,
   "id": "7832bc3b",
   "metadata": {},
   "outputs": [],
   "source": [
    "class NeuralNetwork(object):\n",
    "    def __init__(self):\n",
    "        # Network architecture\n",
    "        inputLayerNeurons = 3\n",
    "        hiddenLayer1Neurons = 10\n",
    "        hiddenLayer2Neurons = 8\n",
    "        hiddenLayer3Neurons = 6\n",
    "        outputLayerNeurons = 5  # 5 classes\n",
    "        \n",
    "        self.learning_rate = 0.05 # Optimizing learning rate\n",
    "        \n",
    "        # Initializing weights\n",
    "        self.W_HI1 = np.random.randn(inputLayerNeurons, hiddenLayer1Neurons)\n",
    "        self.W_HI2 = np.random.randn(hiddenLayer1Neurons, hiddenLayer2Neurons)\n",
    "        self.W_HI3 = np.random.randn(hiddenLayer2Neurons, hiddenLayer3Neurons)\n",
    "        self.W_OH = np.random.randn(hiddenLayer3Neurons, outputLayerNeurons)\n",
    "\n",
    "    def sigmoid(self, x, der=False):\n",
    "        if der:\n",
    "            return x * (1 - x)\n",
    "        else:\n",
    "            return 1 / (1 + np.exp(-x))\n",
    "        \n",
    "    def softmax(self, x):\n",
    "        # Ensuring x is a 2D array\n",
    "        x = np.array(x)\n",
    "        if len(x.shape) == 1:\n",
    "            x = x.reshape(1, -1)  # Adding a batch dimension if it's missing\n",
    "        exp_x = np.exp(x - np.max(x, axis=1, keepdims=True))\n",
    "        return exp_x / np.sum(exp_x, axis=1, keepdims=True)\n",
    "\n",
    "    def cross_entropy_loss(self, Y_true, Y_pred):\n",
    "        # Avoiding log(0) by adding a small constant\n",
    "        Y_pred = np.clip(Y_pred, 1e-12, 1.0)\n",
    "        # Calculating cross-entropy loss\n",
    "        return -np.sum(Y_true * np.log(Y_pred)) / Y_true.shape[0]\n",
    "\n",
    "    def feedForward(self, X):\n",
    "        # Ensuring X is a 2D array\n",
    "        X = np.array(X)\n",
    "        if len(X.shape) == 1:\n",
    "            X = X.reshape(1, -1)  # Adding a batch dimension if it's missing\n",
    "\n",
    "        # Hidden layers\n",
    "        self.hidden_output1 = self.sigmoid(np.dot(X, self.W_HI1))\n",
    "        self.hidden_output2 = self.sigmoid(np.dot(self.hidden_output1, self.W_HI2))\n",
    "        self.hidden_output3 = self.sigmoid(np.dot(self.hidden_output2, self.W_HI3))\n",
    "\n",
    "        # Output layer\n",
    "        output_input = np.dot(self.hidden_output3, self.W_OH)\n",
    "        pred = self.softmax(output_input)\n",
    "        return pred\n",
    "\n",
    "    def backPropagation(self, X, Y, pred):\n",
    "        # Output layer error and delta\n",
    "        output_error = Y - pred\n",
    "        output_delta = self.learning_rate * output_error  # Softmax derivative handled implicitly\n",
    "        \n",
    "        # Hidden layers error and delta\n",
    "        hidden_error3 = output_delta.dot(self.W_OH.T)\n",
    "        hidden_delta3 = self.learning_rate * hidden_error3 * self.sigmoid(self.hidden_output3, der=True)\n",
    "        \n",
    "        hidden_error2 = hidden_delta3.dot(self.W_HI3.T)\n",
    "        hidden_delta2 = self.learning_rate * hidden_error2 * self.sigmoid(self.hidden_output2, der=True)\n",
    "        \n",
    "        hidden_error1 = hidden_delta2.dot(self.W_HI2.T)\n",
    "        hidden_delta1 = self.learning_rate * hidden_error1 * self.sigmoid(self.hidden_output1, der=True)\n",
    "        \n",
    "        # Updating weights\n",
    "        self.W_HI1 += X.T.dot(hidden_delta1)\n",
    "        self.W_HI2 += self.hidden_output1.T.dot(hidden_delta2)\n",
    "        self.W_HI3 += self.hidden_output2.T.dot(hidden_delta3)\n",
    "        self.W_OH += self.hidden_output3.T.dot(output_delta)\n",
    "\n",
    "    def train(self, X, Y):\n",
    "        output = self.feedForward(X)\n",
    "        self.backPropagation(X, Y, output)"
   ]
  },
  {
   "cell_type": "code",
   "execution_count": 5,
   "id": "ac472308",
   "metadata": {},
   "outputs": [
    {
     "data": {
      "image/png": "[encoded data removed]",
      "text/plain": [
       "<Figure size 640x480 with 1 Axes>"
      ]
     },
     "metadata": {},
     "output_type": "display_data"
    },
    {
     "name": "stdout",
     "output_type": "stream",
     "text": [
      "Accuracy: 91.00%\n",
      "Loss: 17.17%\n"
     ]
    }
   ],
   "source": [
    "NN = NeuralNetwork()\n",
    "\n",
    "# Training the model\n",
    "err = []\n",
    "epochs = 10000\n",
    "for i in range(epochs):\n",
    "    NN.train(X_train, Y_train)\n",
    "    if i % 100 == 0:\n",
    "        pred = NN.feedForward(X_train)\n",
    "        loss = NN.cross_entropy_loss(Y_train, pred)\n",
    "        err.append(loss)\n",
    "        # print(f\"Epoch {i}, Loss: {loss}\")\n",
    "\n",
    "# Plotting the loss over epochs\n",
    "plt.plot(err)\n",
    "plt.xlabel('Epochs')\n",
    "plt.ylabel('Cross-Entropy Loss')\n",
    "plt.show()\n",
    "\n",
    "# Testing the model\n",
    "test_predictions = NN.feedForward(X_test)\n",
    "test_predictions = np.argmax(test_predictions, axis=1)\n",
    "Y_test_labels = np.argmax(Y_test, axis=1)\n",
    "\n",
    "# Calculating accuracy and loss\n",
    "accuracy = np.mean(test_predictions == Y_test_labels)\n",
    "print(f'Accuracy: {accuracy * 100:.2f}%')\n",
    "print(f'Loss: {loss * 100:.2f}%')"
   ]
  },
  {
   "cell_type": "code",
   "execution_count": 6,
   "id": "48399ff0",
   "metadata": {},
   "outputs": [
    {
     "name": "stdout",
     "output_type": "stream",
     "text": [
      "Precision per class: [0.85714286 0.94444444 0.92857143 0.88888889 0.93877551]\n",
      "Recall per class: [0.92307692 0.89473684 0.83870968 0.93023256 0.93877551]\n",
      "F1-Score per class: [0.88888889 0.91891892 0.88135593 0.90909091 0.93877551]\n",
      " \n",
      "Precision: 91.16%\n",
      "Recall: 91.00%\n",
      "F1 Score: 91.00%\n"
     ]
    }
   ],
   "source": [
    "# Calculating Precision, Recall, and F1-Score for each class\n",
    "precision = precision_score(Y_test_labels, test_predictions, average=None, zero_division=0)\n",
    "recall = recall_score(Y_test_labels, test_predictions, average=None, zero_division=0)\n",
    "f1 = f1_score(Y_test_labels, test_predictions, average=None, zero_division=0)\n",
    "\n",
    "print(f'Precision per class: {precision}')\n",
    "print(f'Recall per class: {recall}')\n",
    "print(f'F1-Score per class: {f1}')\n",
    "\n",
    "print(' ')\n",
    "\n",
    "# Calculating Overall Precision, Recall, and F1-Score\n",
    "precision = precision_score(Y_test_labels, test_predictions, average='weighted')\n",
    "recall = recall_score(Y_test_labels, test_predictions, average='weighted')\n",
    "f1 = f1_score(Y_test_labels, test_predictions, average='weighted')\n",
    "\n",
    "print(f'Precision: {precision * 100:.2f}%')\n",
    "print(f'Recall: {recall * 100:.2f}%')\n",
    "print(f'F1 Score: {f1 * 100:.2f}%')"
   ]
  },
  {
   "cell_type": "code",
   "execution_count": 7,
   "id": "083c3215",
   "metadata": {},
   "outputs": [
    {
     "data": {
      "image/png": "[encoded data removed]",
      "text/plain": [
       "<Figure size 640x480 with 2 Axes>"
      ]
     },
     "metadata": {},
     "output_type": "display_data"
    }
   ],
   "source": [
    "# Confusion Matrix\n",
    "conf_matrix = confusion_matrix(Y_test_labels, test_predictions)\n",
    "sns.heatmap(conf_matrix, annot=True, fmt=\"d\", cmap=\"Blues\")\n",
    "plt.title(\"Confusion Matrix\")\n",
    "plt.xlabel(\"Predicted Class\")\n",
    "plt.ylabel(\"True Class\")\n",
    "plt.show()"
   ]
  },
  {
   "cell_type": "code",
   "execution_count": 8,
   "id": "aed5d592",
   "metadata": {},
   "outputs": [
    {
     "data": {
      "text/plain": [
       "\"\\nThe dataset is generated with five distinct classes and the network architecture was expanded to include three hidden layers.\\nThe output layer is modified to have five neurons to represent one of the classes. A key addition to the model is the use of\\nthe softmax activation function in the output layer, which converts the raw output values into class probabilities. The\\nbackpropagation algorithm is also adapted to handle multi-class classification by implementing cross-entropy loss, which is\\nmore appropriate for this type of problem than mean squared error. Additionally, the learning rate was tuned through\\nexperimentation. A learning rate of 0.05 yielded the best performance, with a final loss of around 20%. Finding the right\\nlearning rate through trial and error was a challenge, but ultimately helped improve the stability and convergence of the model.\\n\\nAfter training for 10,000 epochs, the final loss was around 20%, with an accuracy of around 90%. The precision, recall, and \\nF1-score were calculated for each of the five classes and each value was observed to surpass 85%. These metrics indicate that\\nthe network was performing well across all classes, with no significant class imbalance or misrepresentation. By tuning the\\nnumber of neurons in each hidden layer, the network was able to learn more intricate patterns in the data, leading to better\\naccuracy. Upon performance comparison, changing either the learning rate value or the hidden layer neurons' values significantly\\nimpacted the results.\\n\\nThe project is successfully implemented a three-hidden-layer neural network for multi-class classification. Potential\\nimprovements could involve exploring different activation functions in the hidden layers to improve convergence rates or \\nexperimenting with more advanced optimization techniques. Additionally, increasing the dataset size or adding more informative\\nfeatures could further enhance the network’s generalization capabilities. It can easily be outlined that fine-tuning model \\narchitectures and hyperparameters to achieve optimal performance in multi-class classification tasks is important.\\n\\n\""
      ]
     },
     "execution_count": 8,
     "metadata": {},
     "output_type": "execute_result"
    }
   ],
   "source": [
    "# Code Description\n",
    "\n",
    "\"\"\"\n",
    "All necessary libraries are imported which are used throughout the project. A synthetic dataset of 1000 samples with 5 distinct\n",
    "classes is generated using `make_classification` library. The `OneHotEncoder` is used to transform the class labels into a format\n",
    "suitable for multi-class classification. The dataset is then divided in train and test in 80-20 proportion. The neural network's\n",
    "architecture is modified to include three hidden layers, each using the sigmoid activation function, while the output layer \n",
    "uses softmax to convert predictions into class probabilities. Cross-entropy loss is implemented to calculate the error. During\n",
    "backpropagation, the network's weights were updated by computing the gradients layer-by-layer. The model was trained for 10,000 \n",
    "epochs with a learning rate of 0.05.  Precision, recall, and F1-scores were calculated, indicating the model's performance \n",
    "across all classes and the confusion matrix provided additional insight into the network’s predictions, helping to identify any\n",
    "misclassifications.\n",
    "\n",
    "\"\"\"\n",
    "\n",
    "# Discussion\n",
    "\n",
    "\"\"\"\n",
    "The dataset is generated with five distinct classes and the network architecture was expanded to include three hidden layers.\n",
    "The output layer is modified to have five neurons to represent one of the classes. A key addition to the model is the use of\n",
    "the softmax activation function in the output layer, which converts the raw output values into class probabilities. The\n",
    "backpropagation algorithm is also adapted to handle multi-class classification by implementing cross-entropy loss, which is\n",
    "more appropriate for this type of problem than mean squared error. Additionally, the learning rate was tuned through\n",
    "experimentation. A learning rate of 0.05 yielded the best performance, with a final loss of around 20%. Finding the right\n",
    "learning rate through trial and error was a challenge, but ultimately helped improve the stability and convergence of the model.\n",
    "\n",
    "After training for 10,000 epochs, the final loss was around 20%, with an accuracy of around 90%. The precision, recall, and \n",
    "F1-score were calculated for each of the five classes and each value was observed to surpass 85%. These metrics indicate that\n",
    "the network was performing well across all classes, with no significant class imbalance or misrepresentation. By tuning the\n",
    "number of neurons in each hidden layer, the network was able to learn more intricate patterns in the data, leading to better\n",
    "accuracy. Upon performance comparison, changing either the learning rate value or the hidden layer neurons' values significantly\n",
    "impacted the results.\n",
    "\n",
    "The project is successfully implemented a three-hidden-layer neural network for multi-class classification. Potential\n",
    "improvements could involve exploring different activation functions in the hidden layers to improve convergence rates or \n",
    "experimenting with more advanced optimization techniques. Additionally, increasing the dataset size or adding more informative\n",
    "features could further enhance the network’s generalization capabilities. It can easily be outlined that fine-tuning model \n",
    "architectures and hyperparameters to achieve optimal performance in multi-class classification tasks is important.\n",
    "\n",
    "\"\"\""
   ]
  }
 ],
 "metadata": {
  "kernelspec": {
   "display_name": "cvpr tf2.4 py3.8",
   "language": "python",
   "name": "cvpr"
  },
  "language_info": {
   "codemirror_mode": {
    "name": "ipython",
    "version": 3
   },
   "file_extension": ".py",
   "mimetype": "text/x-python",
   "name": "python",
   "nbconvert_exporter": "python",
   "pygments_lexer": "ipython3",
   "version": "3.8.15"
  }
 },
 "nbformat": 4,
 "nbformat_minor": 5
}
